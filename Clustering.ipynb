import pandas as pd
from sklearn.cluster import KMeans
import matplotlib.pyplot as plt
from sklearn.preprocessing import StandardScaler


file_path = 'course.csv'  
data = pd.read_csv(r"C:\Users\nothi\OneDrive\Desktop\AI-ML\course.csv")


data['reviewcount'] = pd.to_numeric(
    data['reviewcount'].str.replace('k', ''), errors='coerce'
).fillna(0) * 1000


data['rating'] = data['rating'].fillna(data['rating'].mean())


features = data[['rating', 'reviewcount']]


scaler = StandardScaler()
scaled_features = scaler.fit_transform(features)


kmeans = KMeans(n_clusters=3, random_state=42)
data['cluster'] = kmeans.fit_predict(scaled_features)


output_file = 'clustered_courses.csv'
data.to_csv(output_file, index=False)

print(f"Clustered data saved to {output_file}")


plt.figure(figsize=(10, 6))
plt.scatter(
    features['rating'],
    features['reviewcount'],
    c=data['cluster'],
    cmap='viridis',
    s=50
)
plt.title('Clusters of Courses')
plt.xlabel('Rating')
plt.ylabel('Review Count')
plt.colorbar(label='Cluster')
plt.show()


def predict_new_course(rating, reviewcount,coursename):
    new_data = scaler.transform([[rating, reviewcount]])
    predicted_cluster = kmeans.predict(new_data)[0]
    return predicted_cluster
new_course_name = input("Enter the new course name : ")
new_course_rating = float(input("Enter the rating of this course : "))
new_course_reviewcount = int(input("Enter the review count of this new course : "))
predicted_cluster = predict_new_course(new_course_rating, new_course_reviewcount,new_course_name)
print(f"The {new_course_name} with rating {new_course_rating} and review count {new_course_reviewcount} belongs to cluster {predicted_cluster}.")
