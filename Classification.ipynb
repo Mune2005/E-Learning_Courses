{
 "cells": [
  {
   "cell_type": "code",
   "execution_count": 1,
   "id": "a46a2eb5-6b8b-46f8-a207-73f9bf43ba49",
   "metadata": {},
   "outputs": [
    {
     "name": "stdout",
     "output_type": "stream",
     "text": [
      "Dataset Preview:\n",
      "  partner                                 course  \\\n",
      "0  Google                   Google Cybersecurity   \n",
      "1  Google                  Google Data Analytics   \n",
      "2  Google             Google Project Management:   \n",
      "3  Google  Google Digital Marketing & E-commerce   \n",
      "4  Google                      Google IT Support   \n",
      "\n",
      "                                              skills  rating reviewcount  \\\n",
      "0  {\" Network Security\",\" Python Programming\",\" L...     4.8       16.4k   \n",
      "1  {\" Data Analysis\",\" R Programming\",\" SQL\",\" Bu...     4.8      133.4k   \n",
      "2  {\" Project Management\",\" Strategy and Operatio...     4.8       97.3k   \n",
      "3  {\" Digital Marketing\",\" Marketing\",\" Marketing...     4.8       21.4k   \n",
      "4  {\" Computer Networking\",\" Network Architecture...     4.8      181.4k   \n",
      "\n",
      "       level             certificatetype       duration  crediteligibility  \n",
      "0  Beginner    Professional Certificate    3 - 6 Months              False  \n",
      "1  Beginner    Professional Certificate    3 - 6 Months               True  \n",
      "2  Beginner    Professional Certificate    3 - 6 Months               True  \n",
      "3  Beginner    Professional Certificate    3 - 6 Months              False  \n",
      "4  Beginner    Professional Certificate    3 - 6 Months               True  \n",
      "Handling missing values...\n",
      "\n",
      "Classification Report:\n",
      "                     precision    recall  f1-score   support\n",
      "\n",
      "Not Credit Eligible       0.97      0.98      0.97       121\n",
      "    Credit Eligible       0.00      0.00      0.00         4\n",
      "\n",
      "           accuracy                           0.94       125\n",
      "          macro avg       0.48      0.49      0.49       125\n",
      "       weighted avg       0.94      0.94      0.94       125\n",
      "\n",
      "\n",
      "Accuracy Score: 0.944\n"
     ]
    },
    {
     "name": "stdin",
     "output_type": "stream",
     "text": [
      "Enter the course name:  Introduction to Data Science\n"
     ]
    },
    {
     "name": "stdout",
     "output_type": "stream",
     "text": [
      "\n",
      "Course: Introduction to Data Science\n",
      "Review Count: 85000.0\n",
      "Prediction: Yes, It is a Popular course\n"
     ]
    },
    {
     "name": "stderr",
     "output_type": "stream",
     "text": [
      "C:\\Users\\nothi\\anaconda3\\Lib\\site-packages\\sklearn\\base.py:493: UserWarning: X does not have valid feature names, but RandomForestClassifier was fitted with feature names\n",
      "  warnings.warn(\n"
     ]
    }
   ],
   "source": [
    "import pandas as pd\n",
    "from sklearn.model_selection import train_test_split\n",
    "from sklearn.ensemble import RandomForestClassifier\n",
    "from sklearn.metrics import accuracy_score\n",
    "\n",
    "data = pd.read_csv(r\"C:\\Users\\nothi\\OneDrive\\Desktop\\AI-ML\\course.csv\")\n",
    "print(\"Dataset Preview:\")\n",
    "print(data.head())\n",
    "\n",
    "\n",
    "def convert_review_count(value):\n",
    "    if isinstance(value, str) and 'k' in value:  \n",
    "        return float(value.replace('k', '')) * 1000\n",
    "    elif isinstance(value, (int, float)): \n",
    "        return value\n",
    "    else:\n",
    "        return None  \n",
    "\n",
    "data['reviewcount'] = data['reviewcount'].apply(convert_review_count)\n",
    "\n",
    "X = data[['reviewcount']]  \n",
    "y = data['crediteligibility']  \n",
    "\n",
    "\n",
    "X_train, X_test, y_train, y_test = train_test_split(X, y, test_size=0.2, random_state=42)\n",
    "\n",
    "r\n",
    "classifier = RandomForestClassifier(random_state=42)\n",
    "classifier.fit(X_train, y_train)\n",
    "\n",
    "\n",
    "y_pred = classifier.predict(X_test)\n",
    "print(\"\\nAccuracy Score:\", accuracy_score(y_test, y_pred))\n",
    "\n",
    "\n",
    "course_name = input(\"Enter the course name: \")\n",
    "\n",
    "\n",
    "course_row = data[data['course'] == course_name]\n",
    "\n",
    "if not course_row.empty:\n",
    "    review_count = course_row.iloc[0]['reviewcount']\n",
    "    prediction = classifier.predict([[review_count]])[0]\n",
    "\n",
    "    print(f\"\\nCourse: {course_name}\")\n",
    "    print(f\"Review Count: {review_count}\")\n",
    "    print(\"Prediction: Yes, It is a Popular course\" if prediction == 1 else \"Sorry, It is Not a Popular course\")\n",
    "else:\n",
    "    print(f\"Course '{course_name}' not found in the dataset.\")\n"
   ]
  },
  {
   "cell_type": "code",
   "execution_count": null,
   "id": "eb2e904f-76e1-46b1-a594-5ea5ea83e517",
   "metadata": {},
   "outputs": [],
   "source": []
  }
 ],
 "metadata": {
  "kernelspec": {
   "display_name": "Python 3 (ipykernel)",
   "language": "python",
   "name": "python3"
  },
  "language_info": {
   "codemirror_mode": {
    "name": "ipython",
    "version": 3
   },
   "file_extension": ".py",
   "mimetype": "text/x-python",
   "name": "python",
   "nbconvert_exporter": "python",
   "pygments_lexer": "ipython3",
   "version": "3.12.7"
  }
 },
 "nbformat": 4,
 "nbformat_minor": 5
}
