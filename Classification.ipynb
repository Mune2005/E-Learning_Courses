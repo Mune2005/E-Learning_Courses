import pandas as pd
from sklearn.model_selection import train_test_split
from sklearn.ensemble import RandomForestClassifier
from sklearn.metrics import accuracy_score

data = pd.read_csv(r"C:\Users\nothi\OneDrive\Desktop\AI-ML\course.csv")
print("Dataset Preview:")
print(data.head())


def convert_review_count(value):
    if isinstance(value, str) and 'k' in value:  
        return float(value.replace('k', '')) * 1000
    elif isinstance(value, (int, float)): 
        return value
    else:
        return None  

data['reviewcount'] = data['reviewcount'].apply(convert_review_count)

X = data[['reviewcount']]  
y = data['crediteligibility']  


X_train, X_test, y_train, y_test = train_test_split(X, y, test_size=0.2, random_state=42)

r
classifier = RandomForestClassifier(random_state=42)
classifier.fit(X_train, y_train)


y_pred = classifier.predict(X_test)
print("\nAccuracy Score:", accuracy_score(y_test, y_pred))


course_name = input("Enter the course name: ")


course_row = data[data['course'] == course_name]

if not course_row.empty:
    review_count = course_row.iloc[0]['reviewcount']
    prediction = classifier.predict([[review_count]])[0]

    print(f"\nCourse: {course_name}")
    print(f"Review Count: {review_count}")
    print("Prediction: Yes, It is a Popular course" if prediction == 1 else "Sorry, It is Not a Popular course")
else:
    print(f"Course '{course_name}' not found in the dataset.")
