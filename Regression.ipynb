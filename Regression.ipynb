import pandas as pd
from sklearn.model_selection import train_test_split
from sklearn.linear_model import LinearRegression
from sklearn.metrics import mean_squared_error, r2_score


data = pd.read_csv(r"C:\Users\nothi\OneDrive\Desktop\AI-ML\course.csv")
print("Dataset Preview:")
print(data.head())

# Function to convert 'k' in reviewcount to actual numbers
def convert_review_count(value):
    if isinstance(value, str) and 'k' in value:  
        return float(value.replace('k', '')) * 1000
    elif isinstance(value, (int, float)): 
        return value
    else:
        return None  


data['reviewcount'] = data['reviewcount'].apply(convert_review_count)


data = data.dropna(subset=['reviewcount', 'rating'])

X = data[['reviewcount']]
y = data['rating']


X_train, X_test, y_train, y_test = train_test_split(X, y, test_size=0.2, random_state=42)

regressor = LinearRegression()
regressor.fit(X_train, y_train)


y_pred = regressor.predict(X_test)


mse = mean_squared_error(y_test, y_pred)
print("\nModel Evaluation:")
print("Mean Squared Error:", mse)


course_name = input("Enter the course name: ")
course_row = data[data['course'] == course_name]

if not course_row.empty:
    review_count = course_row.iloc[0]['reviewcount']
    predicted_rating = regressor.predict([[review_count]])[0]

    print(f"\nCourse: {course_name}")
    print(f"Review Count: {review_count}")
    print(f"Predicted Rating: {predicted_rating:.2f}")
else:
    print(f"Course '{course_name}' not found in the dataset.")
